{
 "cells": [
  {
   "cell_type": "markdown",
   "metadata": {
    "id": "lkuCbkarVWnp"
   },
   "source": [
    "# SVGA"
   ]
  },
  {
   "cell_type": "code",
   "execution_count": 1,
   "metadata": {
    "colab": {
     "base_uri": "https://localhost:8080/",
     "height": 265
    },
    "id": "h1PzYFf5RUnR",
    "outputId": "9cc5ff67-6785-4869-cbb8-9d7038caa111"
   },
   "outputs": [
    {
     "data": {
      "image/png": "[encoded data removed]",
      "text/plain": [
       "<Figure size 432x288 with 1 Axes>"
      ]
     },
     "metadata": {},
     "output_type": "display_data"
    }
   ],
   "source": [
    "import matplotlib.pyplot as plt\n",
    "%matplotlib inline\n",
    "import numpy as np\n",
    "\n",
    "from shapely.geometry import Point, LineString, MultiPoint, LinearRing\n",
    "from shapely.geometry.polygon import Polygon\n",
    "\n",
    "polys = np.array([\n",
    "    Polygon([[2,0], [2,3], [4,1]]),\n",
    "    Polygon([[-1,-1], [-1,1], [1,1], [1,-1]])\n",
    "])\n",
    "\n",
    "start = Point(-2,-3)\n",
    "end = Point(4,4)\n",
    "\n",
    "for poly in polys:\n",
    "  plt.plot(*poly.exterior.xy, 'g')\n",
    "\n",
    "path = LineString([start, end])\n",
    "plt.plot(*path.xy, 'rx-')\n",
    "\n",
    "plt.show()"
   ]
  },
  {
   "cell_type": "markdown",
   "metadata": {
    "id": "aJ85owmn2U57"
   },
   "source": [
    "# Pseudo Code\n",
    "\n",
    "1. Find the nearest polygon that intersect with direct path.\n",
    "  - find whether the path crosses each polygon\n",
    "  - if it crosses polygons find distance between path\n",
    "  - find the index of polygon with lowest distance\n",
    "\n",
    "2. Find the two outermost points on the polygon, from the perspective of the line.\n",
    "  - find the visibile points of the polygon from point\n",
    "    - take start as a point and each vertex of the polygon as a line segment\n",
    "    - check if intersection of polygon and the line segment is a point, if yes, it is a visible point\n",
    "  - find points that have max dist from the intersecting line segment on both sides\n",
    "    -"
   ]
  },
  {
   "cell_type": "code",
   "execution_count": 2,
   "metadata": {
    "collapsed": true,
    "id": "VjqT8fpJSDuM"
   },
   "outputs": [],
   "source": [
    "def nearest_polygon(start,polys):\n",
    "  \"\"\"\n",
    "  Finds the index of the nearest polygon to the start points\n",
    "  inputs: start point (start), polygon array (polys)\n",
    "  output: index of nearest polygon in the array\n",
    "  \"\"\"\n",
    "  nearest_dist = float('inf')\n",
    "  nearest_idx = 0\n",
    "  for idx, poly in enumerate(polys):\n",
    "    if path.crosses(poly) and start.distance(poly)<nearest_dist:\n",
    "      nearest_dist = start.distance(poly)\n",
    "      nearest_idx = idx\n",
    "  return nearest_idx\n",
    "\n",
    "def visible_points(start, poly):\n",
    "  \"\"\"\n",
    "  Finds the vertices of a polygon that are visible from the start point\n",
    "  inputs: start point (start), polygon\n",
    "  \"\"\"\n",
    "  vis_points = []\n",
    "  for coord in list(poly.exterior.coords[:-1]):\n",
    "    line = LineString([start, Point(coord[0],coord[1])])\n",
    "\n",
    "    # vertex is visible if the line it forms with start point intersects the polygon at a point,\n",
    "    # not a line or any other shape\n",
    "    if line.intersection(poly).geom_type == 'Point':\n",
    "      vis_points.append(coord)\n",
    "  return vis_points\n",
    "\n",
    "def outermost_points(polys, path):\n",
    "  \"\"\"\n",
    "  Finds the outermost points of the nearest polygon that falls in line of sight of path\n",
    "  inputs: polygon array (polys), path\n",
    "  output: two outermost points on nearest polygon\n",
    "  \"\"\"\n",
    "  start = Point(path.bounds[0], path.bounds[1])\n",
    "  end = Point(path.bounds[-2], path.bounds[-1])\n",
    "  \n",
    "  #find visible vertices of the nearest polygon\n",
    "  vis_points = visible_points(start, polys[nearest_polygon(start,polys)])\n",
    "  \n",
    "  #find vertices on each side of the line\n",
    "  sides=[[],[]]\n",
    "  for point in vis_points:\n",
    "    if LinearRing([start.coords[0], end.coords[0], point]).is_ccw:\n",
    "      sides[0].append(point)\n",
    "    else:\n",
    "      sides[1].append(point)\n",
    "  \n",
    "  #find extreme points on each side\n",
    "  outermost_points=[]\n",
    "  for side in sides:\n",
    "    farthest_dist_side = 0\n",
    "    farthest_idx_side = 0\n",
    "    for idx, point in enumerate(side):\n",
    "      if Point(point).distance(path)>farthest_dist_side:\n",
    "        farthest_dist_side = Point(point).distance(path)\n",
    "        farthest_idx_side = idx\n",
    "    outermost_points.append(side[farthest_idx_side])\n",
    "\n",
    "  #find extreme points on each side\n",
    "  return outermost_points"
   ]
  },
  {
   "cell_type": "code",
   "execution_count": 3,
   "metadata": {
    "colab": {
     "base_uri": "https://localhost:8080/",
     "height": 282
    },
    "id": "cooGyIA2hBDx",
    "outputId": "77b041ff-f00b-4374-9a30-65350c2b522a"
   },
   "outputs": [
    {
     "name": "stdout",
     "output_type": "stream",
     "text": [
      "outermost points of nearest polygon: [(-1.0, 1.0), (1.0, -1.0)]\n"
     ]
    },
    {
     "data": {
      "image/png": "[encoded data removed]",
      "text/plain": [
       "<Figure size 432x288 with 1 Axes>"
      ]
     },
     "metadata": {},
     "output_type": "display_data"
    }
   ],
   "source": [
    "outermost_pts = outermost_points(polys,path)\n",
    "print('outermost points of nearest polygon:',outermost_pts)\n",
    "\n",
    "for poly in polys:\n",
    "  plt.plot(*poly.exterior.xy, 'g')\n",
    "plt.plot(*path.xy, 'rx-')\n",
    "plt.scatter([x[0] for x in outermost_pts], [x[1] for x in outermost_pts])\n",
    "plt.show()"
   ]
  },
  {
   "cell_type": "code",
   "execution_count": 40,
   "metadata": {
    "collapsed": true,
    "id": "cUJxWnZ9SByQ"
   },
   "outputs": [],
   "source": []
  }
 ],
 "metadata": {
  "colab": {
   "collapsed_sections": [],
   "name": "svga_test.ipynb",
   "provenance": []
  },
  "kernelspec": {
   "display_name": "Python 3",
   "language": "python",
   "name": "python3"
  },
  "language_info": {
   "codemirror_mode": {
    "name": "ipython",
    "version": 3
   },
   "file_extension": ".py",
   "mimetype": "text/x-python",
   "name": "python",
   "nbconvert_exporter": "python",
   "pygments_lexer": "ipython3",
   "version": "3.6.11"
  }
 },
 "nbformat": 4,
 "nbformat_minor": 1
}
