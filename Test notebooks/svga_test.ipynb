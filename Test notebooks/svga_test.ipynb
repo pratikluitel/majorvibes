{
  "nbformat": 4,
  "nbformat_minor": 0,
  "metadata": {
    "colab": {
      "name": "svga.ipynb",
      "provenance": [],
      "collapsed_sections": []
    },
    "kernelspec": {
      "name": "python3",
      "display_name": "Python 3"
    }
  },
  "cells": [
    {
      "cell_type": "markdown",
      "metadata": {
        "id": "lkuCbkarVWnp"
      },
      "source": [
        "# SVGA"
      ]
    },
    {
      "cell_type": "code",
      "metadata": {
        "id": "h1PzYFf5RUnR",
        "colab": {
          "base_uri": "https://localhost:8080/",
          "height": 265
        },
        "outputId": "db650043-2d90-47b4-cbfe-1b0ce0428118"
      },
      "source": [
        "import matplotlib.pyplot as plt\r\n",
        "%matplotlib inline\r\n",
        "import numpy as np\r\n",
        "\r\n",
        "from shapely.geometry import Point, LineString, MultiPoint, LinearRing\r\n",
        "from shapely.geometry.polygon import Polygon\r\n",
        "\r\n",
        "polys = np.array([\r\n",
        "    Polygon([[2,0], [2,3], [4,1]]),\r\n",
        "    Polygon([[-1,-1], [-1,1], [1,1], [1,-1]])\r\n",
        "])\r\n",
        "\r\n",
        "start = Point(-2,-3)\r\n",
        "end = Point(4,4)\r\n",
        "\r\n",
        "for poly in polys:\r\n",
        "  plt.plot(*poly.exterior.xy, 'g')\r\n",
        "\r\n",
        "path = LineString([start, end])\r\n",
        "plt.plot(*path.xy, 'rx-')\r\n",
        "\r\n",
        "plt.show()"
      ],
      "execution_count": 111,
      "outputs": [
        {
          "output_type": "display_data",
          "data": {
            "image/png": "[encoded data removed]",
            "text/plain": [
              "<Figure size 432x288 with 1 Axes>"
            ]
          },
          "metadata": {
            "tags": [],
            "needs_background": "light"
          }
        }
      ]
    },
    {
      "cell_type": "markdown",
      "metadata": {
        "id": "aJ85owmn2U57"
      },
      "source": [
        "# Pseudo Code\n",
        "\n",
        "1. Find the nearest polygon that intersect with direct path.\n",
        "  - find whether the path crosses each polygon\n",
        "  - if it crosses polygons find distance between path\n",
        "  - find the index of polygon with lowest distance\n",
        "\n",
        "2. Find the two outermost points on the polygon, from the perspective of the line.\n",
        "  - find the visibile points of the polygon from point\n",
        "    - take start as a point and each vertex of the polygon as a line segment\n",
        "    - check if intersection of polygon and the line segment is a point, if yes, it is a visible point\n",
        "  - find points that have max dist from the intersecting line segment on both sides\n",
        "    -"
      ]
    },
    {
      "cell_type": "code",
      "metadata": {
        "id": "VjqT8fpJSDuM"
      },
      "source": [
        "def nearest_poly(polys, path):\r\n",
        "  \"\"\"\r\n",
        "  inputs: polys, path\r\n",
        "  output: index of nearest poly intersecting with path, and two outermost points on nearest polygon\r\n",
        "  \"\"\"\r\n",
        "  nearest_dist = float('inf')\r\n",
        "  nearest_idx = 0\r\n",
        "  start = Point(path.bounds[0], path.bounds[1])\r\n",
        "  end = Point(path.bounds[-2], path.bounds[-1])\r\n",
        "  for idx, poly in enumerate(polys):\r\n",
        "    if path.crosses(poly) and start.distance(poly)<nearest_dist:\r\n",
        "      nearest_dist = start.distance(poly)\r\n",
        "      nearest_idx = idx\r\n",
        "  \r\n",
        "  #find visible points\r\n",
        "  nearest_poly = polys[nearest_idx]\r\n",
        "  visible_points = []\r\n",
        "  for coord in list(nearest_poly.exterior.coords[:-1]):\r\n",
        "    line = LineString([start, Point(coord[0],coord[1])])\r\n",
        "    print('Start and end:',start.coords,[coord[0],coord[1]],'\\n')\r\n",
        "    if line.intersection(nearest_poly).geom_type == 'Point':\r\n",
        "      visible_points.append(coord)\r\n",
        "  \r\n",
        "  #find points on each side of the line\r\n",
        "  sides=[[],[]]\r\n",
        "  for point in visible_points:\r\n",
        "    if LinearRing([start.coords[0], end.coords[0], point]).is_ccw:\r\n",
        "      sides[0].append(point)\r\n",
        "    else:\r\n",
        "      sides[1].append(point)\r\n",
        "  \r\n",
        "  #find extreme points on each side\r\n",
        "  outermost_points=[]\r\n",
        "  for side in sides:\r\n",
        "    farthest_dist_side = 0\r\n",
        "    farthest_idx_side = 0\r\n",
        "    for idx, point in enumerate(side):\r\n",
        "      if Point(point).distance(path)>farthest_dist_side:\r\n",
        "        farthest_dist_side = Point(point).distance(path)\r\n",
        "        farthest_idx_side = idx\r\n",
        "    outermost_points.append(side[farthest_idx_side])\r\n",
        "\r\n",
        "  #find extreme points on each side\r\n",
        "  return nearest_idx, outermost_points"
      ],
      "execution_count": 112,
      "outputs": []
    },
    {
      "cell_type": "code",
      "metadata": {
        "colab": {
          "base_uri": "https://localhost:8080/",
          "height": 35
        },
        "id": "VoZgI8EyVHly",
        "outputId": "eb48705b-6c40-458b-c804-06804a3cb5d6"
      },
      "source": [
        "#test\n",
        "path.intersection(polys[0]).geom_type"
      ],
      "execution_count": 113,
      "outputs": [
        {
          "output_type": "execute_result",
          "data": {
            "application/vnd.google.colaboratory.intrinsic+json": {
              "type": "string"
            },
            "text/plain": [
              "'LineString'"
            ]
          },
          "metadata": {
            "tags": []
          },
          "execution_count": 113
        }
      ]
    },
    {
      "cell_type": "code",
      "metadata": {
        "colab": {
          "base_uri": "https://localhost:8080/"
        },
        "id": "cooGyIA2hBDx",
        "outputId": "6985c75b-2dba-46a4-b170-ee356f5ee590"
      },
      "source": [
        "nearest_poly(polys,path)"
      ],
      "execution_count": 114,
      "outputs": [
        {
          "output_type": "stream",
          "text": [
            "Start and end: <shapely.coords.CoordinateSequence object at 0x7f47eee9eac8> [-1.0, -1.0] \n",
            "\n",
            "Start and end: <shapely.coords.CoordinateSequence object at 0x7f47eee9eeb8> [-1.0, 1.0] \n",
            "\n",
            "Start and end: <shapely.coords.CoordinateSequence object at 0x7f47eee9ec50> [1.0, 1.0] \n",
            "\n",
            "Start and end: <shapely.coords.CoordinateSequence object at 0x7f47ef057898> [1.0, -1.0] \n",
            "\n"
          ],
          "name": "stdout"
        },
        {
          "output_type": "execute_result",
          "data": {
            "text/plain": [
              "(1, [(-1.0, 1.0), (1.0, -1.0)])"
            ]
          },
          "metadata": {
            "tags": []
          },
          "execution_count": 114
        }
      ]
    }
  ]
}