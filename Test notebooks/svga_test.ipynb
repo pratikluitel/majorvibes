{
  "nbformat": 4,
  "nbformat_minor": 0,
  "metadata": {
    "colab": {
      "name": "svga_test.ipynb",
      "provenance": [],
      "collapsed_sections": []
    },
    "kernelspec": {
      "name": "python3",
      "display_name": "Python 3"
    }
  },
  "cells": [
    {
      "cell_type": "markdown",
      "metadata": {
        "id": "lkuCbkarVWnp"
      },
      "source": [
        "# SVGA"
      ]
    },
    {
      "cell_type": "code",
      "metadata": {
        "id": "h1PzYFf5RUnR",
        "colab": {
          "base_uri": "https://localhost:8080/",
          "height": 265
        },
        "outputId": "9cc5ff67-6785-4869-cbb8-9d7038caa111"
      },
      "source": [
        "import matplotlib.pyplot as plt\r\n",
        "%matplotlib inline\r\n",
        "import numpy as np\r\n",
        "\r\n",
        "from shapely.geometry import Point, LineString, MultiPoint, LinearRing\r\n",
        "from shapely.geometry.polygon import Polygon\r\n",
        "\r\n",
        "polys = np.array([\r\n",
        "    Polygon([[2,0], [2,3], [4,1]]),\r\n",
        "    Polygon([[-1,-1], [-1,1], [1,1], [1,-1]])\r\n",
        "])\r\n",
        "\r\n",
        "start = Point(-2,-3)\r\n",
        "end = Point(4,4)\r\n",
        "\r\n",
        "for poly in polys:\r\n",
        "  plt.plot(*poly.exterior.xy, 'g')\r\n",
        "\r\n",
        "path = LineString([start, end])\r\n",
        "plt.plot(*path.xy, 'rx-')\r\n",
        "\r\n",
        "plt.show()"
      ],
      "execution_count": 38,
      "outputs": [
        {
          "output_type": "display_data",
          "data": {
            "image/png": "[encoded data removed]",
            "text/plain": [
              "<Figure size 432x288 with 1 Axes>"
            ]
          },
          "metadata": {
            "tags": [],
            "needs_background": "light"
          }
        }
      ]
    },
    {
      "cell_type": "markdown",
      "metadata": {
        "id": "aJ85owmn2U57"
      },
      "source": [
        "# Pseudo Code\n",
        "\n",
        "1. Find the nearest polygon that intersect with direct path.\n",
        "  - find whether the path crosses each polygon\n",
        "  - if it crosses polygons find distance between path\n",
        "  - find the index of polygon with lowest distance\n",
        "\n",
        "2. Find the two outermost points on the polygon, from the perspective of the line.\n",
        "  - find the visibile points of the polygon from point\n",
        "    - take start as a point and each vertex of the polygon as a line segment\n",
        "    - check if intersection of polygon and the line segment is a point, if yes, it is a visible point\n",
        "  - find points that have max dist from the intersecting line segment on both sides\n",
        "    -"
      ]
    },
    {
      "cell_type": "code",
      "metadata": {
        "id": "VjqT8fpJSDuM"
      },
      "source": [
        "def nearest_polygon(start,polys):\r\n",
        "  \"\"\"\r\n",
        "  Finds the index of the nearest polygon to the start points\r\n",
        "  inputs: start point (start), polygon array (polys)\r\n",
        "  output: index of nearest polygon in the array\r\n",
        "  \"\"\"\r\n",
        "  nearest_dist = float('inf')\r\n",
        "  nearest_idx = 0\r\n",
        "  for idx, poly in enumerate(polys):\r\n",
        "    if path.crosses(poly) and start.distance(poly)<nearest_dist:\r\n",
        "      nearest_dist = start.distance(poly)\r\n",
        "      nearest_idx = idx\r\n",
        "  return nearest_idx\r\n",
        "\r\n",
        "def visible_points(start, poly):\r\n",
        "  \"\"\"\r\n",
        "  Finds the vertices of a polygon that are visible from the start point\r\n",
        "  inputs: start point (start), polygon\r\n",
        "  \"\"\"\r\n",
        "  vis_points = []\r\n",
        "  for coord in list(poly.exterior.coords[:-1]):\r\n",
        "    line = LineString([start, Point(coord[0],coord[1])])\r\n",
        "\r\n",
        "    # vertex is visible if the line it forms with start point intersects the polygon at a point,\r\n",
        "    # not a line or any other shape\r\n",
        "    if line.intersection(poly).geom_type == 'Point':\r\n",
        "      vis_points.append(coord)\r\n",
        "  return vis_points\r\n",
        "\r\n",
        "def outermost_points(polys, path):\r\n",
        "  \"\"\"\r\n",
        "  Finds the outermost points of the nearest polygon that falls in line of sight of path\r\n",
        "  inputs: polygon array (polys), path\r\n",
        "  output: two outermost points on nearest polygon\r\n",
        "  \"\"\"\r\n",
        "  start = Point(path.bounds[0], path.bounds[1])\r\n",
        "  end = Point(path.bounds[-2], path.bounds[-1])\r\n",
        "  \r\n",
        "  #find visible vertices of the nearest polygon\r\n",
        "  vis_points = visible_points(start, polys[nearest_polygon(start,polys)])\r\n",
        "  \r\n",
        "  #find vertices on each side of the line\r\n",
        "  sides=[[],[]]\r\n",
        "  for point in vis_points:\r\n",
        "    if LinearRing([start.coords[0], end.coords[0], point]).is_ccw:\r\n",
        "      sides[0].append(point)\r\n",
        "    else:\r\n",
        "      sides[1].append(point)\r\n",
        "  \r\n",
        "  #find extreme points on each side\r\n",
        "  outermost_points=[]\r\n",
        "  for side in sides:\r\n",
        "    farthest_dist_side = 0\r\n",
        "    farthest_idx_side = 0\r\n",
        "    for idx, point in enumerate(side):\r\n",
        "      if Point(point).distance(path)>farthest_dist_side:\r\n",
        "        farthest_dist_side = Point(point).distance(path)\r\n",
        "        farthest_idx_side = idx\r\n",
        "    outermost_points.append(side[farthest_idx_side])\r\n",
        "\r\n",
        "  #find extreme points on each side\r\n",
        "  return outermost_points"
      ],
      "execution_count": 39,
      "outputs": []
    },
    {
      "cell_type": "code",
      "metadata": {
        "colab": {
          "base_uri": "https://localhost:8080/",
          "height": 282
        },
        "id": "cooGyIA2hBDx",
        "outputId": "77b041ff-f00b-4374-9a30-65350c2b522a"
      },
      "source": [
        "outermost_pts = outermost_points(polys,path)\n",
        "print('outermost points of nearest polygon:',outermost_pts)\n",
        "\n",
        "for poly in polys:\n",
        "  plt.plot(*poly.exterior.xy, 'g')\n",
        "plt.plot(*path.xy, 'rx-')\n",
        "plt.scatter([x[0] for x in outermost_pts], [x[1] for x in outermost_pts])\n",
        "plt.show()"
      ],
      "execution_count": 40,
      "outputs": [
        {
          "output_type": "stream",
          "text": [
            "outermost points of nearest polygon: [(-1.0, 1.0), (1.0, -1.0)]\n"
          ],
          "name": "stdout"
        },
        {
          "output_type": "display_data",
          "data": {
            "image/png": "[encoded data removed]",
            "text/plain": [
              "<Figure size 432x288 with 1 Axes>"
            ]
          },
          "metadata": {
            "tags": [],
            "needs_background": "light"
          }
        }
      ]
    },
    {
      "cell_type": "code",
      "metadata": {
        "id": "cUJxWnZ9SByQ"
      },
      "source": [
        ""
      ],
      "execution_count": 40,
      "outputs": []
    }
  ]
}