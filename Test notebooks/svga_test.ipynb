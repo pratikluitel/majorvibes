{
  "nbformat": 4,
  "nbformat_minor": 0,
  "metadata": {
    "colab": {
      "name": "svga_test.ipynb",
      "provenance": [],
      "collapsed_sections": []
    },
    "kernelspec": {
      "name": "python3",
      "display_name": "Python 3"
    }
  },
  "cells": [
    {
      "cell_type": "markdown",
      "metadata": {
        "id": "lkuCbkarVWnp"
      },
      "source": [
        "# SVGA\n",
        "\n",
        "# Pseudo Code\n",
        "\n",
        "1. Find the nearest polygon that intersect with direct path.\n",
        "  - find whether the path crosses each polygon\n",
        "  - if it crosses polygons find distance between path\n",
        "  - find the index of polygon with lowest distance\n",
        "\n",
        "2. Find the two outermost points on the polygon, from the perspective of the line.\n",
        "  - find the visibile points of the polygon from point\n",
        "    - take start as a point and each vertex of the polygon as a line segment\n",
        "    - check if intersection of polygon and the line segment is a point, if yes, it is a visible point\n",
        "  - find points that have max dist from the intersecting line segment on both sides.\n",
        "\n",
        "3. Form a path taking the start point as start point, and the nearest outermost point (see code for logic, its a little complex) as end point, repeat the steps 1 and 2 recursively, taking path = (previous end point, next nearest outermost point) until there is no polygon between start and end points.\n",
        "\n",
        "4. Do this until there is no polygon between the n-1 th and the end point of the path.\n",
        "\n",
        "## Note: The above method is a custom modified SVGA implementation that does not require constructing the SVG graph (the next code section has the proper SVGA implementation)"
      ]
    },
    {
      "cell_type": "code",
      "metadata": {
        "id": "h1PzYFf5RUnR"
      },
      "source": [
        "import matplotlib.pyplot as plt\r\n",
        "%matplotlib inline\r\n",
        "import numpy as np\r\n",
        "\r\n",
        "from shapely.geometry import Point, LineString, MultiPoint, LinearRing\r\n",
        "from shapely.geometry.polygon import Polygon\r\n",
        "\r\n",
        "visited_points={}\r\n",
        "\r\n",
        "def make_path(start, end):\r\n",
        "  path = LineString([start, end])\r\n",
        "  return path\r\n",
        "\r\n",
        "def nearest_polygon(start,end,polys):\r\n",
        "  \"\"\"\r\n",
        "  Finds the index of the nearest polygon to the start points\r\n",
        "  inputs: start point (start), polygon array (polys)\r\n",
        "  output: index of nearest polygon in the array\r\n",
        "  \"\"\"\r\n",
        "  nearest_dist = float('inf')\r\n",
        "  nearest_idx = 0\r\n",
        "  path = make_path(start,end)\r\n",
        "\r\n",
        "  for idx, poly in enumerate(polys):\r\n",
        "    if path.crosses(poly) and start.distance(poly)<nearest_dist:\r\n",
        "      nearest_dist = start.distance(poly)\r\n",
        "      nearest_idx = idx\r\n",
        "  return nearest_idx\r\n",
        "\r\n",
        "def visible_points(start, poly):\r\n",
        "  \"\"\"\r\n",
        "  Finds the vertices of a polygon that are visible from the start point\r\n",
        "  inputs: start point (start), polygon\r\n",
        "  \"\"\"\r\n",
        "  vis_points = []\r\n",
        "  for coord in list(poly.exterior.coords[:-1]):\r\n",
        "    line = LineString([start, Point(coord[0],coord[1])])\r\n",
        "\r\n",
        "    # vertex is visible if the line it forms with start point intersects the polygon at a point,\r\n",
        "    # not a line or any other shape\r\n",
        "    if line.intersection(poly).geom_type == 'Point':\r\n",
        "      vis_points.append(coord)\r\n",
        "  return vis_points\r\n",
        "\r\n",
        "def adjacent_points(poly, vertex):\r\n",
        "  \"\"\"\r\n",
        "  input: polygon, a vertex of the polygon\r\n",
        "  output: adjacent points of a vertex in a polygon\r\n",
        "  \"\"\"\r\n",
        "  coords = list(poly.exterior.coords)[:-1]\r\n",
        "  idx = coords.index(vertex)\r\n",
        "  return [coords[idx-1],coords[(idx+1)%len(coords)]]\r\n",
        "\r\n",
        "def outermost_points(polys, start, end):\r\n",
        "  \"\"\"\r\n",
        "  Finds the outermost points of the nearest polygon that falls in line of sight of path\r\n",
        "  inputs: polygon array (polys), path\r\n",
        "  output: two outermost points on nearest polygon\r\n",
        "  \"\"\"\r\n",
        "\r\n",
        "  nearest_idx = nearest_polygon(start,end,polys)\r\n",
        "  \r\n",
        "  #find visible vertices of the nearest polygon\r\n",
        "  vis_points = visible_points(start, polys[nearest_idx])\r\n",
        "  \r\n",
        "  if len(vis_points)<2:\r\n",
        "    return adjacent_points(polys[nearest_idx],(start.x,start.y))\r\n",
        "    \r\n",
        "  #find vertices on each side of the line\r\n",
        "  sides=[[],[]]\r\n",
        "  for point in vis_points:\r\n",
        "    if LinearRing([start.coords[0], end.coords[0], point]).is_ccw:\r\n",
        "      sides[0].append(point)\r\n",
        "    else:\r\n",
        "      sides[1].append(point)\r\n",
        "  \r\n",
        "  #find extreme points on each side\r\n",
        "  outermost_points=[]\r\n",
        "  path = make_path(start,end)\r\n",
        "  for side in sides:\r\n",
        "    farthest_dist_side = 0\r\n",
        "    farthest_idx_side = 0\r\n",
        "    if len(side)!=0:\r\n",
        "      for idx, point in enumerate(side):\r\n",
        "        if Point(point).distance(path)>farthest_dist_side:\r\n",
        "          farthest_dist_side = Point(point).distance(path)\r\n",
        "          farthest_idx_side = idx\r\n",
        "      outermost_points.append(side[farthest_idx_side])\r\n",
        "    else:\r\n",
        "      outermost_points.append((None, None)) #i.e. whole side is invisible\r\n",
        "\r\n",
        "  #find extreme points on each side\r\n",
        "  return outermost_points\r\n",
        "\r\n",
        "def find_paths(start, end, polys):\r\n",
        "  \"\"\"\r\n",
        "  inputs: start point, end point, map - polygons\r\n",
        "  output: a list of paths\r\n",
        "  \"\"\"\r\n",
        "  tempo_polys = sorted(polys,key=lambda x: x.distance(start), reverse=False)[:] # sorted list of polygons by distance from start point\r\n",
        "  temp_start = start\r\n",
        "\r\n",
        "  planned_path = []\r\n",
        "\r\n",
        "  while True:\r\n",
        "    temp_polys = tempo_polys # discard previous polygon\r\n",
        "    temp_path = make_path(temp_start,end)\r\n",
        "\r\n",
        "    #checks if any polygon crosses path, if not, loop can break as there is a direct path to the end\r\n",
        "    crosses = False\r\n",
        "    for poly in temp_polys:\r\n",
        "      crosses = True if temp_path.crosses(poly) == True else crosses\r\n",
        "  \r\n",
        "    # for visualization/debug purposes\r\n",
        "    # for poly in polys:\r\n",
        "    #   plt.plot(*poly.exterior.xy, 'g')\r\n",
        "    # plt.plot(*temp_path.xy, 'rx-')\r\n",
        "    # plt.show()\r\n",
        "\r\n",
        "    if crosses:\r\n",
        "      outermost_pts = outermost_points(temp_polys,Point(temp_start),Point(end))\r\n",
        "\r\n",
        "      #for visualization/debug purposes\r\n",
        "      # plt.scatter([x[0] for x in outermost_pts], [x[1] for x in outermost_pts])\r\n",
        "      \r\n",
        "      # to prevent oscillation between same locally optimal points, keep track of visited points\r\n",
        "      if str(Point(outermost_pts[0])) in visited_points: \r\n",
        "        temp_end = Point(outermost_pts[1])\r\n",
        "      elif str(Point(outermost_pts[1])) in visited_points:\r\n",
        "        temp_end = Point(outermost_pts[0])\r\n",
        "      else:\r\n",
        "        flag = end.distance(Point(outermost_pts[0])) < end.distance(Point(outermost_pts[1]))\r\n",
        "        temp_end = Point(outermost_pts[0]) if flag else Point(outermost_pts[1])\r\n",
        "\r\n",
        "      new_paths = find_paths(temp_start,temp_end,temp_polys)\r\n",
        "      for path in new_paths:\r\n",
        "        planned_path.append(path)\r\n",
        "      \r\n",
        "      visited_points[str(temp_start)] = True\r\n",
        "      temp_start = temp_end\r\n",
        "    else:\r\n",
        "      new_path = make_path(temp_start,end)\r\n",
        "      planned_path.append(new_path)\r\n",
        "\r\n",
        "      return planned_path"
      ],
      "execution_count": 1,
      "outputs": []
    },
    {
      "cell_type": "markdown",
      "metadata": {
        "id": "u3YyPgcdX1Ko"
      },
      "source": [
        "## Constructing a SVG graph\n",
        "1. Construct a graph for all possible feasible paths touching the outermost points of polygon - called Super Visble Graph (SVG)\n",
        "2. Apply Djikstra's algothm to find the shortest path along the graph - gives result close enough to the optimal path"
      ]
    },
    {
      "cell_type": "code",
      "metadata": {
        "id": "hMiKO4rMXv8_"
      },
      "source": [
        "# makes a graph - from pythoncourse.eu\n",
        "# making a graph data structure as a class\n",
        "\n",
        "import matplotlib.pyplot as plt\n",
        "%matplotlib inline\n",
        "\n",
        "class Graph(object):\n",
        "\n",
        "    def __init__(self, graph_dict=None):\n",
        "        \"\"\" initializes a graph object \n",
        "        If no dictionary or None is given, \n",
        "        an empty dictionary will be used\n",
        "        \"\"\"\n",
        "        if graph_dict == None:\n",
        "            graph_dict = {}\n",
        "        self.__graph_dict = graph_dict\n",
        "\n",
        "    def vertices(self):\n",
        "        \"\"\" returns the vertices of a graph \"\"\"\n",
        "        return list(self.__graph_dict.keys())\n",
        "\n",
        "    def edges(self):\n",
        "        \"\"\" returns the edges of a graph \"\"\"\n",
        "        return self.__generate_edges()\n",
        "    \n",
        "    def to(self, vertex):\n",
        "        to_vertices = []\n",
        "        if vertex in self.__graph_dict:\n",
        "            to_vertices = self.__graph_dict[vertex]\n",
        "\n",
        "        return to_vertices\n",
        "    \n",
        "    def dict(self):\n",
        "        return self.__graph_dict\n",
        "\n",
        "    def add_vertex(self, vertex):\n",
        "        \"\"\" If the vertex \"vertex\" is not in \n",
        "        self.__graph_dict, a key \"vertex\" with an empty\n",
        "        list as a value is added to the dictionary. \n",
        "        Otherwise nothing has to be done. \n",
        "        \"\"\"\n",
        "        if vertex not in self.__graph_dict:\n",
        "            self.__graph_dict[vertex] = []\n",
        "\n",
        "    def add_edge(self, edge):\n",
        "        \"\"\" assumes that edge is of type set, tuple or list; \n",
        "        between two vertices can be multiple edges! \n",
        "        \"\"\"\n",
        "        (vertex1, vertex2) = tuple(edge)\n",
        "        if vertex1 in self.__graph_dict:\n",
        "            self.__graph_dict[vertex1].append(vertex2)\n",
        "        else:\n",
        "            self.__graph_dict[vertex1] = [vertex2]\n",
        "\n",
        "    def __generate_edges(self):\n",
        "        \"\"\" A static method generating the edges of the \n",
        "        graph \"graph\". Edges are represented as sets \n",
        "        with one (a loop back to the vertex) or two \n",
        "        vertices \n",
        "        \"\"\"\n",
        "        edges = []\n",
        "        for vertex in self.__graph_dict:\n",
        "            for neighbour in self.__graph_dict[vertex]:\n",
        "                if {neighbour, vertex} not in edges:\n",
        "                    edges.append({vertex, neighbour})\n",
        "        return edges\n",
        "\n",
        "    def plot(self):\n",
        "        \"\"\"\n",
        "        plots the graph\n",
        "        \"\"\"\n",
        "        edges = self.edges()\n",
        "        vertices = self.vertices()\n",
        "        for edge in edges:\n",
        "            ed = list(edge)\n",
        "            x_values = [ed[0][0], ed[1][0]]\n",
        "            y_values = [ed[0][1], ed[1][1]]\n",
        "            plt.plot(x_values,y_values,'rx-')\n",
        "\n",
        "        plt.scatter([i[0] for i in vertices],[i[1] for i in vertices])\n",
        "\n",
        "    def __str__(self):\n",
        "        res = \"vertices: \"\n",
        "        for k in self.__graph_dict:\n",
        "            res += str(k) + \" \"\n",
        "\n",
        "        res += \"\\nedges: \"\n",
        "        for edge in self.__generate_edges():\n",
        "            res += str(edge) + \" \"\n",
        "\n",
        "        return res\n",
        "\n",
        "\n",
        "def make_graph(start, end, polys):\n",
        "  \"\"\"\n",
        "  inputs: start point, end point, map - polygons\n",
        "  output: a graph of all possible SVG paths - i.e. a SVG graph\n",
        "  \"\"\"\n",
        "  visited_points={}\n",
        "  graph = Graph()\n",
        "  graph.add_vertex((start.x,start.y))\n",
        "  graph.add_vertex((end.x,end.y))\n",
        "\n",
        "  def recursion_depth(start, end, polys): #meme\n",
        "    start = Point(start)\n",
        "    end = Point(end)\n",
        "    tempo_polys = sorted(polys,key=lambda x: x.distance(start), reverse=False)[:] # sorted list of polygons by distance from start point\n",
        "    \n",
        "    temp_polys = tempo_polys # discard previous polygon\n",
        "    temp_path = make_path(start,end)\n",
        "\n",
        "    #checks if any polygon crosses path, if not, loop can break as there is a direct path to the end\n",
        "    crosses = False\n",
        "    for poly in temp_polys:\n",
        "      crosses = True if temp_path.crosses(poly) == True else crosses\n",
        "\n",
        "    if crosses:\n",
        "      outermost_pts = outermost_points(temp_polys,start,end)\n",
        "\n",
        "      if str(Point(outermost_pts[0])) in visited_points: \n",
        "        recursion_depth(start, outermost_pts[1], temp_polys)\n",
        "        recursion_depth(outermost_pts[1], end, temp_polys)\n",
        "\n",
        "      elif str(Point(outermost_pts[1])) in visited_points:\n",
        "        recursion_depth(start, outermost_pts[0], temp_polys)\n",
        "        recursion_depth(outermost_pts[0], end, temp_polys)\n",
        "\n",
        "      else:\n",
        "        for point in outermost_pts:\n",
        "          recursion_depth(start, point, temp_polys)\n",
        "          recursion_depth(point, end, temp_polys)\n",
        "\n",
        "      visited_points[str(start)] = True\n",
        "\n",
        "    else:\n",
        "      visited_points[str(start)] = True\n",
        "      graph.add_edge([(start.x,start.y), (end.x,end.y)])\n",
        "      graph.add_vertex((start.x,start.y))\n",
        "      graph.add_vertex((end.x,end.y))\n",
        "      return\n",
        "\n",
        "  recursion_depth(start,end,polys)\n",
        "  return graph"
      ],
      "execution_count": 2,
      "outputs": []
    },
    {
      "cell_type": "markdown",
      "metadata": {
        "id": "pcf74X-xuxDx"
      },
      "source": [
        "## Setting up the polygons (that represent geo fences) and the start & end points"
      ]
    },
    {
      "cell_type": "code",
      "metadata": {
        "colab": {
          "base_uri": "https://localhost:8080/",
          "height": 265
        },
        "id": "cooGyIA2hBDx",
        "outputId": "57b01a1c-0af8-4537-c8c6-39357f2f739a"
      },
      "source": [
        "polys = np.array([Polygon([[-1,-1], [-1,1], [1,1], [1,-1]]),\n",
        "                  Polygon([[-1,-3], [-1,-2], [0,-3]]),\n",
        "                  Polygon([[2,0], [2,3], [4,1]]),\n",
        "                  Polygon([[3,4], [3,3], [3.5,4]]),\n",
        "                  Polygon([[2,-2],[2,-3], [3,-3], [3,-2]])])\n",
        "\n",
        "start = Point(-2,-3)\n",
        "end = Point(4,4)\n",
        "\n",
        "for poly in polys:\n",
        "  plt.plot(*poly.exterior.xy, 'g')\n",
        "\n",
        "path = make_path(start, end)\n",
        "plt.plot(*path.xy, 'rx-')\n",
        "\n",
        "plt.show()"
      ],
      "execution_count": 3,
      "outputs": [
        {
          "output_type": "display_data",
          "data": {
            "image/png": "[encoded data removed]",
            "text/plain": [
              "<Figure size 432x288 with 1 Axes>"
            ]
          },
          "metadata": {
            "tags": [],
            "needs_background": "light"
          }
        }
      ]
    },
    {
      "cell_type": "markdown",
      "metadata": {
        "id": "RNHe8F64OIZQ"
      },
      "source": [
        "# The full final path using Cumulative SVG Algorithm"
      ]
    },
    {
      "cell_type": "code",
      "metadata": {
        "colab": {
          "base_uri": "https://localhost:8080/",
          "height": 265
        },
        "id": "-JD-uYuDGg_M",
        "outputId": "f3f46f20-02ff-4df4-e3d5-fe28a77a1a4c"
      },
      "source": [
        "planned_path = find_paths(start, end, polys)\n",
        "for poly in polys:\n",
        "  plt.plot(*poly.exterior.xy, 'g')\n",
        "for path in planned_path:\n",
        "  plt.plot(*path.xy, 'rx-')\n",
        "plt.show()"
      ],
      "execution_count": 12,
      "outputs": [
        {
          "output_type": "display_data",
          "data": {
            "image/png": "[encoded data removed]",
            "text/plain": [
              "<Figure size 432x288 with 1 Axes>"
            ]
          },
          "metadata": {
            "tags": [],
            "needs_background": "light"
          }
        }
      ]
    },
    {
      "cell_type": "markdown",
      "metadata": {
        "id": "XAjBkFz760kM"
      },
      "source": [
        "## Using SVG graph construction"
      ]
    },
    {
      "cell_type": "code",
      "metadata": {
        "id": "F5JnphdE7kOI"
      },
      "source": [
        "graph = make_graph(start,end,polys)"
      ],
      "execution_count": 5,
      "outputs": []
    },
    {
      "cell_type": "code",
      "metadata": {
        "colab": {
          "base_uri": "https://localhost:8080/",
          "height": 265
        },
        "id": "78ix90h_7mGO",
        "outputId": "c8fd8af1-075a-4086-8614-ed63e25da459"
      },
      "source": [
        "for poly in polys:\n",
        "  plt.plot(*poly.exterior.xy, 'g')\n",
        "graph.plot()"
      ],
      "execution_count": 6,
      "outputs": [
        {
          "output_type": "display_data",
          "data": {
            "image/png": "[encoded data removed]",
            "text/plain": [
              "<Figure size 432x288 with 1 Axes>"
            ]
          },
          "metadata": {
            "tags": [],
            "needs_background": "light"
          }
        }
      ]
    },
    {
      "cell_type": "markdown",
      "metadata": {
        "id": "N7aPjceq67eN"
      },
      "source": [
        "# Now apply djikstra's algorithm"
      ]
    },
    {
      "cell_type": "code",
      "metadata": {
        "id": "14IgUDTk67I-"
      },
      "source": [
        "import math\r\n",
        "\r\n",
        "def length(fr, to):\r\n",
        "    (x1, y1) = tuple(fr)\r\n",
        "    (x2, y2) = tuple(to)\r\n",
        "    return math.sqrt((x2-x1)**2 + (y2-y1)**2)\r\n",
        "\r\n",
        "def dijkstra(graph, start, end):\r\n",
        "  \r\n",
        "    queue = []\r\n",
        "    order = {}\r\n",
        "    dist = {}\r\n",
        "    dist[start] = 0\r\n",
        "\r\n",
        "    for v in graph.vertices():\r\n",
        "        if v != start:\r\n",
        "            dist[v] = float('inf')\r\n",
        "        queue.append(v)\r\n",
        "        \r\n",
        "\r\n",
        "    found = False\r\n",
        "    while len(queue) > 0:\r\n",
        "        min_v = queue[0]\r\n",
        "        for q in queue:\r\n",
        "            if dist[q] < dist[min_v]:\r\n",
        "                min_v = q\r\n",
        "\r\n",
        "        queue.remove(min_v)\r\n",
        "        \r\n",
        "        done = False\r\n",
        "        for u in graph.to(min_v):\r\n",
        "            alt = dist[min_v] + length(min_v, u)\r\n",
        "            if alt < dist[u]:\r\n",
        "                dist[u] = alt\r\n",
        "                order[u] = min_v\r\n",
        "                if u == end:\r\n",
        "                    done = True\r\n",
        "        \r\n",
        "        if done:\r\n",
        "            found = True\r\n",
        "    \r\n",
        "    if not found:\r\n",
        "        print(\"No Path Found\")\r\n",
        "        return\r\n",
        "\r\n",
        "    # Find the path from the order\r\n",
        "    path = [end]\r\n",
        "    curr = end\r\n",
        "    while curr != start:\r\n",
        "        fr = order[curr]\r\n",
        "        path.append(fr)\r\n",
        "        curr = fr\r\n",
        "    \r\n",
        "    return path[::-1]"
      ],
      "execution_count": 7,
      "outputs": []
    },
    {
      "cell_type": "code",
      "metadata": {
        "id": "v-auLtoB3kWJ",
        "colab": {
          "base_uri": "https://localhost:8080/",
          "height": 282
        },
        "outputId": "bd84c62e-140b-413d-fdc5-42b4cb316cc9"
      },
      "source": [
        "path = dijkstra(graph, (start.x, start.y), (end.x, end.y))\r\n",
        "print(path)\r\n",
        "\r\n",
        "for v in path:\r\n",
        "  plt.plot(v[0], v[1], 'rx-')\r\n",
        "\r\n",
        "plt.plot(*zip(*path), 'r')\r\n",
        "for poly in polys:\r\n",
        "  plt.plot(*poly.exterior.xy, 'g')\r\n",
        "plt.show()"
      ],
      "execution_count": 8,
      "outputs": [
        {
          "output_type": "stream",
          "text": [
            "[(-2.0, -3.0), (-1.0, 1.0), (2.0, 3.0), (3.0, 3.0), (4.0, 4.0)]\n"
          ],
          "name": "stdout"
        },
        {
          "output_type": "display_data",
          "data": {
            "image/png": "[encoded data removed]",
            "text/plain": [
              "<Figure size 432x288 with 1 Axes>"
            ]
          },
          "metadata": {
            "tags": [],
            "needs_background": "light"
          }
        }
      ]
    },
    {
      "cell_type": "code",
      "metadata": {
        "id": "_i5lwiS2EUTB"
      },
      "source": [
        ""
      ],
      "execution_count": 8,
      "outputs": []
    }
  ]
}